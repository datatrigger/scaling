{
 "cells": [
  {
   "cell_type": "code",
   "execution_count": 1,
   "metadata": {},
   "outputs": [],
   "source": [
    "## PYTHON\n",
    "\n",
    "import pandas as pd\n",
    "from numpy.random import *\n",
    "\n",
    "# Generate the dataset\n",
    "seed(42)\n",
    "\n",
    "df = pd.DataFrame({\n",
    "    'x': normal(2, 2, 50),\n",
    "    'y': standard_cauchy(50),\n",
    "    'z': uniform(5, 10, 50)\n",
    "})"
   ]
  },
  {
   "cell_type": "code",
   "execution_count": 2,
   "metadata": {},
   "outputs": [],
   "source": [
    "# Split the data into train/test samples\n",
    "from sklearn.model_selection import train_test_split\n",
    "train, test = train_test_split(df, test_size = 0.2)"
   ]
  },
  {
   "cell_type": "code",
   "execution_count": 3,
   "metadata": {},
   "outputs": [],
   "source": [
    "# Instantiate a Scaler\n",
    "from sklearn.preprocessing import StandardScaler\n",
    "from sklearn.preprocessing import MinMaxScaler\n",
    "scaler_sd = StandardScaler()\n",
    "scaler_range = MinMaxScaler()\n",
    "\n",
    "# Get scaling parameters with the train sample exclusively, using the Scaler.fit() function\n",
    "scaler_sd.fit(train)\n",
    "scaler_range.fit(train)\n",
    "\n",
    "# Scale data using Scaler.transform()\n",
    "df_train_scaled_sd = pd.DataFrame(scaler_sd.transform(train))\n",
    "df_train_scaled_range = pd.DataFrame(scaler_range.transform(train))\n",
    "df_test_scaled_sd = pd.DataFrame(scaler_sd.transform(test))\n",
    "df_test_scaled_range = pd.DataFrame(scaler_range.transform(test))"
   ]
  },
  {
   "cell_type": "code",
   "execution_count": 4,
   "metadata": {},
   "outputs": [
    {
     "data": {
      "text/html": [
       "<div>\n",
       "<style scoped>\n",
       "    .dataframe tbody tr th:only-of-type {\n",
       "        vertical-align: middle;\n",
       "    }\n",
       "\n",
       "    .dataframe tbody tr th {\n",
       "        vertical-align: top;\n",
       "    }\n",
       "\n",
       "    .dataframe thead th {\n",
       "        text-align: right;\n",
       "    }\n",
       "</style>\n",
       "<table border=\"1\" class=\"dataframe\">\n",
       "  <thead>\n",
       "    <tr style=\"text-align: right;\">\n",
       "      <th></th>\n",
       "      <th>0</th>\n",
       "      <th>1</th>\n",
       "      <th>2</th>\n",
       "    </tr>\n",
       "  </thead>\n",
       "  <tbody>\n",
       "    <tr>\n",
       "      <th>count</th>\n",
       "      <td>4.000000e+01</td>\n",
       "      <td>4.000000e+01</td>\n",
       "      <td>4.000000e+01</td>\n",
       "    </tr>\n",
       "    <tr>\n",
       "      <th>mean</th>\n",
       "      <td>-1.887379e-16</td>\n",
       "      <td>-3.556183e-17</td>\n",
       "      <td>-4.801715e-16</td>\n",
       "    </tr>\n",
       "    <tr>\n",
       "      <th>std</th>\n",
       "      <td>1.012739e+00</td>\n",
       "      <td>1.012739e+00</td>\n",
       "      <td>1.012739e+00</td>\n",
       "    </tr>\n",
       "    <tr>\n",
       "      <th>min</th>\n",
       "      <td>-2.045427e+00</td>\n",
       "      <td>-9.372863e-01</td>\n",
       "      <td>-1.609726e+00</td>\n",
       "    </tr>\n",
       "    <tr>\n",
       "      <th>25%</th>\n",
       "      <td>-5.368312e-01</td>\n",
       "      <td>-2.354869e-01</td>\n",
       "      <td>-8.752191e-01</td>\n",
       "    </tr>\n",
       "    <tr>\n",
       "      <th>50%</th>\n",
       "      <td>-7.175533e-02</td>\n",
       "      <td>-1.618996e-01</td>\n",
       "      <td>2.111035e-01</td>\n",
       "    </tr>\n",
       "    <tr>\n",
       "      <th>75%</th>\n",
       "      <td>5.543399e-01</td>\n",
       "      <td>-5.012685e-02</td>\n",
       "      <td>7.957480e-01</td>\n",
       "    </tr>\n",
       "    <tr>\n",
       "      <th>max</th>\n",
       "      <td>2.186865e+00</td>\n",
       "      <td>6.080573e+00</td>\n",
       "      <td>1.495703e+00</td>\n",
       "    </tr>\n",
       "  </tbody>\n",
       "</table>\n",
       "</div>"
      ],
      "text/plain": [
       "                  0             1             2\n",
       "count  4.000000e+01  4.000000e+01  4.000000e+01\n",
       "mean  -1.887379e-16 -3.556183e-17 -4.801715e-16\n",
       "std    1.012739e+00  1.012739e+00  1.012739e+00\n",
       "min   -2.045427e+00 -9.372863e-01 -1.609726e+00\n",
       "25%   -5.368312e-01 -2.354869e-01 -8.752191e-01\n",
       "50%   -7.175533e-02 -1.618996e-01  2.111035e-01\n",
       "75%    5.543399e-01 -5.012685e-02  7.957480e-01\n",
       "max    2.186865e+00  6.080573e+00  1.495703e+00"
      ]
     },
     "execution_count": 4,
     "metadata": {},
     "output_type": "execute_result"
    }
   ],
   "source": [
    "# Check everything is ok\n",
    "df_train_scaled_sd.describe()"
   ]
  },
  {
   "cell_type": "code",
   "execution_count": 5,
   "metadata": {},
   "outputs": [
    {
     "data": {
      "text/html": [
       "<div>\n",
       "<style scoped>\n",
       "    .dataframe tbody tr th:only-of-type {\n",
       "        vertical-align: middle;\n",
       "    }\n",
       "\n",
       "    .dataframe tbody tr th {\n",
       "        vertical-align: top;\n",
       "    }\n",
       "\n",
       "    .dataframe thead th {\n",
       "        text-align: right;\n",
       "    }\n",
       "</style>\n",
       "<table border=\"1\" class=\"dataframe\">\n",
       "  <thead>\n",
       "    <tr style=\"text-align: right;\">\n",
       "      <th></th>\n",
       "      <th>0</th>\n",
       "      <th>1</th>\n",
       "      <th>2</th>\n",
       "    </tr>\n",
       "  </thead>\n",
       "  <tbody>\n",
       "    <tr>\n",
       "      <th>count</th>\n",
       "      <td>40.000000</td>\n",
       "      <td>40.000000</td>\n",
       "      <td>40.000000</td>\n",
       "    </tr>\n",
       "    <tr>\n",
       "      <th>mean</th>\n",
       "      <td>0.483291</td>\n",
       "      <td>0.133557</td>\n",
       "      <td>0.518359</td>\n",
       "    </tr>\n",
       "    <tr>\n",
       "      <th>std</th>\n",
       "      <td>0.239289</td>\n",
       "      <td>0.144309</td>\n",
       "      <td>0.326119</td>\n",
       "    </tr>\n",
       "    <tr>\n",
       "      <th>min</th>\n",
       "      <td>0.000000</td>\n",
       "      <td>0.000000</td>\n",
       "      <td>0.000000</td>\n",
       "    </tr>\n",
       "    <tr>\n",
       "      <th>25%</th>\n",
       "      <td>0.356449</td>\n",
       "      <td>0.100002</td>\n",
       "      <td>0.236523</td>\n",
       "    </tr>\n",
       "    <tr>\n",
       "      <th>50%</th>\n",
       "      <td>0.466336</td>\n",
       "      <td>0.110488</td>\n",
       "      <td>0.586337</td>\n",
       "    </tr>\n",
       "    <tr>\n",
       "      <th>75%</th>\n",
       "      <td>0.614269</td>\n",
       "      <td>0.126415</td>\n",
       "      <td>0.774603</td>\n",
       "    </tr>\n",
       "    <tr>\n",
       "      <th>max</th>\n",
       "      <td>1.000000</td>\n",
       "      <td>1.000000</td>\n",
       "      <td>1.000000</td>\n",
       "    </tr>\n",
       "  </tbody>\n",
       "</table>\n",
       "</div>"
      ],
      "text/plain": [
       "               0          1          2\n",
       "count  40.000000  40.000000  40.000000\n",
       "mean    0.483291   0.133557   0.518359\n",
       "std     0.239289   0.144309   0.326119\n",
       "min     0.000000   0.000000   0.000000\n",
       "25%     0.356449   0.100002   0.236523\n",
       "50%     0.466336   0.110488   0.586337\n",
       "75%     0.614269   0.126415   0.774603\n",
       "max     1.000000   1.000000   1.000000"
      ]
     },
     "execution_count": 5,
     "metadata": {},
     "output_type": "execute_result"
    }
   ],
   "source": [
    "df_train_scaled_range.describe()"
   ]
  },
  {
   "cell_type": "markdown",
   "metadata": {},
   "source": [
    "The train sample was successfully scaled in both case."
   ]
  },
  {
   "cell_type": "code",
   "execution_count": 6,
   "metadata": {},
   "outputs": [
    {
     "data": {
      "text/html": [
       "<div>\n",
       "<style scoped>\n",
       "    .dataframe tbody tr th:only-of-type {\n",
       "        vertical-align: middle;\n",
       "    }\n",
       "\n",
       "    .dataframe tbody tr th {\n",
       "        vertical-align: top;\n",
       "    }\n",
       "\n",
       "    .dataframe thead th {\n",
       "        text-align: right;\n",
       "    }\n",
       "</style>\n",
       "<table border=\"1\" class=\"dataframe\">\n",
       "  <thead>\n",
       "    <tr style=\"text-align: right;\">\n",
       "      <th></th>\n",
       "      <th>0</th>\n",
       "      <th>1</th>\n",
       "      <th>2</th>\n",
       "    </tr>\n",
       "  </thead>\n",
       "  <tbody>\n",
       "    <tr>\n",
       "      <th>count</th>\n",
       "      <td>10.000000</td>\n",
       "      <td>10.000000</td>\n",
       "      <td>10.000000</td>\n",
       "    </tr>\n",
       "    <tr>\n",
       "      <th>mean</th>\n",
       "      <td>-0.600003</td>\n",
       "      <td>-0.392939</td>\n",
       "      <td>0.100280</td>\n",
       "    </tr>\n",
       "    <tr>\n",
       "      <th>std</th>\n",
       "      <td>1.042161</td>\n",
       "      <td>0.623066</td>\n",
       "      <td>0.883100</td>\n",
       "    </tr>\n",
       "    <tr>\n",
       "      <th>min</th>\n",
       "      <td>-1.993921</td>\n",
       "      <td>-2.141365</td>\n",
       "      <td>-1.107418</td>\n",
       "    </tr>\n",
       "    <tr>\n",
       "      <th>25%</th>\n",
       "      <td>-1.439699</td>\n",
       "      <td>-0.254438</td>\n",
       "      <td>-0.643848</td>\n",
       "    </tr>\n",
       "    <tr>\n",
       "      <th>50%</th>\n",
       "      <td>-0.586823</td>\n",
       "      <td>-0.213541</td>\n",
       "      <td>0.215750</td>\n",
       "    </tr>\n",
       "    <tr>\n",
       "      <th>75%</th>\n",
       "      <td>0.208046</td>\n",
       "      <td>-0.182735</td>\n",
       "      <td>0.561783</td>\n",
       "    </tr>\n",
       "    <tr>\n",
       "      <th>max</th>\n",
       "      <td>0.950234</td>\n",
       "      <td>0.039742</td>\n",
       "      <td>1.309156</td>\n",
       "    </tr>\n",
       "  </tbody>\n",
       "</table>\n",
       "</div>"
      ],
      "text/plain": [
       "               0          1          2\n",
       "count  10.000000  10.000000  10.000000\n",
       "mean   -0.600003  -0.392939   0.100280\n",
       "std     1.042161   0.623066   0.883100\n",
       "min    -1.993921  -2.141365  -1.107418\n",
       "25%    -1.439699  -0.254438  -0.643848\n",
       "50%    -0.586823  -0.213541   0.215750\n",
       "75%     0.208046  -0.182735   0.561783\n",
       "max     0.950234   0.039742   1.309156"
      ]
     },
     "execution_count": 6,
     "metadata": {},
     "output_type": "execute_result"
    }
   ],
   "source": [
    "df_test_scaled_sd.describe()"
   ]
  },
  {
   "cell_type": "code",
   "execution_count": 7,
   "metadata": {},
   "outputs": [
    {
     "data": {
      "text/html": [
       "<div>\n",
       "<style scoped>\n",
       "    .dataframe tbody tr th:only-of-type {\n",
       "        vertical-align: middle;\n",
       "    }\n",
       "\n",
       "    .dataframe tbody tr th {\n",
       "        vertical-align: top;\n",
       "    }\n",
       "\n",
       "    .dataframe thead th {\n",
       "        text-align: right;\n",
       "    }\n",
       "</style>\n",
       "<table border=\"1\" class=\"dataframe\">\n",
       "  <thead>\n",
       "    <tr style=\"text-align: right;\">\n",
       "      <th></th>\n",
       "      <th>0</th>\n",
       "      <th>1</th>\n",
       "      <th>2</th>\n",
       "    </tr>\n",
       "  </thead>\n",
       "  <tbody>\n",
       "    <tr>\n",
       "      <th>count</th>\n",
       "      <td>10.000000</td>\n",
       "      <td>10.000000</td>\n",
       "      <td>10.000000</td>\n",
       "    </tr>\n",
       "    <tr>\n",
       "      <th>mean</th>\n",
       "      <td>0.341523</td>\n",
       "      <td>0.077566</td>\n",
       "      <td>0.550650</td>\n",
       "    </tr>\n",
       "    <tr>\n",
       "      <th>std</th>\n",
       "      <td>0.246240</td>\n",
       "      <td>0.088783</td>\n",
       "      <td>0.284373</td>\n",
       "    </tr>\n",
       "    <tr>\n",
       "      <th>min</th>\n",
       "      <td>0.012170</td>\n",
       "      <td>-0.171573</td>\n",
       "      <td>0.161751</td>\n",
       "    </tr>\n",
       "    <tr>\n",
       "      <th>25%</th>\n",
       "      <td>0.143120</td>\n",
       "      <td>0.097301</td>\n",
       "      <td>0.311029</td>\n",
       "    </tr>\n",
       "    <tr>\n",
       "      <th>50%</th>\n",
       "      <td>0.344637</td>\n",
       "      <td>0.103129</td>\n",
       "      <td>0.587834</td>\n",
       "    </tr>\n",
       "    <tr>\n",
       "      <th>75%</th>\n",
       "      <td>0.532447</td>\n",
       "      <td>0.107519</td>\n",
       "      <td>0.699262</td>\n",
       "    </tr>\n",
       "    <tr>\n",
       "      <th>max</th>\n",
       "      <td>0.707810</td>\n",
       "      <td>0.139220</td>\n",
       "      <td>0.939928</td>\n",
       "    </tr>\n",
       "  </tbody>\n",
       "</table>\n",
       "</div>"
      ],
      "text/plain": [
       "               0          1          2\n",
       "count  10.000000  10.000000  10.000000\n",
       "mean    0.341523   0.077566   0.550650\n",
       "std     0.246240   0.088783   0.284373\n",
       "min     0.012170  -0.171573   0.161751\n",
       "25%     0.143120   0.097301   0.311029\n",
       "50%     0.344637   0.103129   0.587834\n",
       "75%     0.532447   0.107519   0.699262\n",
       "max     0.707810   0.139220   0.939928"
      ]
     },
     "execution_count": 7,
     "metadata": {},
     "output_type": "execute_result"
    }
   ],
   "source": [
    "df_test_scaled_range.describe()"
   ]
  },
  {
   "cell_type": "code",
   "execution_count": 8,
   "metadata": {},
   "outputs": [],
   "source": [
    "## SPARK\n",
    "\n",
    "from pyspark.sql import SparkSession\n",
    "# Specify the number of available cores in .master()\n",
    "spark = SparkSession.builder.master('local[4]').appName('Scaling data with Spark').getOrCreate()\n",
    "\n",
    "# Let us use the Pandas.DataFrame created above with NumPy/Pandas\n",
    "df = spark.createDataFrame(df)"
   ]
  },
  {
   "cell_type": "code",
   "execution_count": 9,
   "metadata": {},
   "outputs": [],
   "source": [
    "# Split the data into train/test samples\n",
    "train, test = df.randomSplit([.8, .2], seed = 42)"
   ]
  },
  {
   "cell_type": "code",
   "execution_count": 10,
   "metadata": {},
   "outputs": [],
   "source": [
    "# Gather the columns into one with a VectorAssembler, as usual in Spark\n",
    "from pyspark.ml.feature import VectorAssembler\n",
    "vector_assembler = VectorAssembler(inputCols=df.schema.names, outputCol=\"features\")\n",
    "train = vector_assembler.transform(train)\n",
    "test = vector_assembler.transform(test)"
   ]
  },
  {
   "cell_type": "markdown",
   "metadata": {},
   "source": [
    "Here we will just standardize the data. As in scikit-klearn, other scalers are available : MinMaxScaler, RobustScaler and more. More information [here](https://spark.apache.org/docs/latest/ml-features)."
   ]
  },
  {
   "cell_type": "code",
   "execution_count": 11,
   "metadata": {},
   "outputs": [],
   "source": [
    "# Standardize the data using only the train sample\n",
    "# This is very similar to scikit-learn preprocessing workflow\n",
    "from pyspark.ml.feature import StandardScaler\n",
    "scaler = StandardScaler(\n",
    "    inputCol=\"features\",\n",
    "    outputCol=\"scaledFeatures\",\n",
    "    withStd=True,\n",
    "    withMean=True\n",
    ")\n",
    "scalerModel = scaler.fit(train)\n",
    "train_scaled = scalerModel.transform(train)\n",
    "test_scaled = scalerModel.transform(test)"
   ]
  },
  {
   "cell_type": "code",
   "execution_count": 12,
   "metadata": {},
   "outputs": [
    {
     "name": "stdout",
     "output_type": "stream",
     "text": [
      "+----------------------------------------------------------------------------------+\n",
      "|aggregate_metrics(scaledFeatures, 1.0)                                            |\n",
      "+----------------------------------------------------------------------------------+\n",
      "|[[-4.163336342344337E-17,0.0,3.677613769070831E-16], [1.0,0.9999999999999999,1.0]]|\n",
      "+----------------------------------------------------------------------------------+\n",
      "\n"
     ]
    }
   ],
   "source": [
    "# Check the results are consistent\n",
    "from pyspark.ml.stat import Summarizer\n",
    "summarizer = Summarizer.metrics(\"mean\", 'std')\n",
    "train_scaled.select(summarizer.summary(train_scaled.scaledFeatures)).show(truncate=False)"
   ]
  },
  {
   "cell_type": "code",
   "execution_count": 13,
   "metadata": {},
   "outputs": [
    {
     "name": "stdout",
     "output_type": "stream",
     "text": [
      "+---------------------------------------------------------------------------------------------------------------------------+\n",
      "|aggregate_metrics(scaledFeatures, 1.0)                                                                                     |\n",
      "+---------------------------------------------------------------------------------------------------------------------------+\n",
      "|[[0.24683132060177,-0.11688519638997828,-0.24137689651144545], [1.1048888799193564,0.10159371285827362,0.8946021481808285]]|\n",
      "+---------------------------------------------------------------------------------------------------------------------------+\n",
      "\n"
     ]
    }
   ],
   "source": [
    "test_scaled.select(summarizer.summary(test_scaled.scaledFeatures)).show(truncate=False)"
   ]
  }
 ],
 "metadata": {
  "kernelspec": {
   "display_name": "Python 3",
   "language": "python",
   "name": "python3"
  },
  "language_info": {
   "codemirror_mode": {
    "name": "ipython",
    "version": 3
   },
   "file_extension": ".py",
   "mimetype": "text/x-python",
   "name": "python",
   "nbconvert_exporter": "python",
   "pygments_lexer": "ipython3",
   "version": "3.7.6"
  }
 },
 "nbformat": 4,
 "nbformat_minor": 4
}
